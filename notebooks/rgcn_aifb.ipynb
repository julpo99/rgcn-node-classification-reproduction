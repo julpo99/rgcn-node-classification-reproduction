{
 "cells": [
  {
   "metadata": {
    "jupyter": {
     "is_executing": true
    }
   },
   "cell_type": "code",
   "source": "!pip install -e ..",
   "id": "8514b1fb01665b6",
   "outputs": [],
   "execution_count": null
  },
  {
   "metadata": {
    "jupyter": {
     "is_executing": true
    }
   },
   "cell_type": "code",
   "source": [
    "from utils.history import plot_history\n",
    "from mapper.full_batch_generators import RelationalFullBatchNodeGenerator\n",
    "from layer.rgcn_reproduced import RGCN\n",
    "import numpy as np\n",
    "import matplotlib.pyplot as plt\n",
    "import os\n",
    "import pandas as pd\n",
    "import tensorflow as tf\n",
    "from tensorflow import keras\n",
    "from tensorflow.keras.layers import Dense\n",
    "from tensorflow.keras.models import Model\n",
    "\n",
    "import sklearn\n",
    "from sklearn import model_selection\n",
    "from collections import Counter\n",
    "import datasets\n",
    "\n",
    "import matplotlib.pyplot as plt"
   ],
   "id": "2299bfeee26d077f",
   "outputs": [],
   "execution_count": null
  },
  {
   "metadata": {},
   "cell_type": "code",
   "source": [
    "dataset = datasets.AIFB()\n",
    "## Here the load method will produce the graph and one hot encoded affiliation\n",
    "G, affiliation = dataset.load()"
   ],
   "id": "a297b248dff740d5",
   "outputs": [],
   "execution_count": null
  },
  {
   "metadata": {},
   "cell_type": "code",
   "source": "# print(G.info())",
   "id": "bcced27b91acba2b",
   "outputs": [],
   "execution_count": null
  },
  {
   "metadata": {},
   "cell_type": "code",
   "source": [
    "## splitting dataset into train(80%) and test(20%)\n",
    "train_targets, test_targets = model_selection.train_test_split(\n",
    "    affiliation, train_size=0.8, test_size=None\n",
    ")\n",
    "\n",
    "## class for a data generator for use with full-batch mapper on relational graphs e.g. RGCN.\n",
    "generator = RelationalFullBatchNodeGenerator(G, sparse=True)\n",
    "\n",
    "train_gen = generator.flow(train_targets.index, targets=train_targets)\n",
    "test_gen = generator.flow(test_targets.index, targets=test_targets)"
   ],
   "id": "c2e634de8cb6fd52",
   "outputs": [],
   "execution_count": null
  },
  {
   "metadata": {},
   "cell_type": "code",
   "source": [
    "rgcn = RGCN(\n",
    "    generator=generator,\n",
    "    bias=True,\n",
    "\n",
    "\n",
    "    # AIFB best\n",
    "    # layer_sizes=[32, 32],\n",
    "    # activations=[\"relu\", \"relu\"],\n",
    "    # num_bases=20,\n",
    "    # dropout=0.5,\n",
    "\n",
    "\n",
    "    # AIFB original\n",
    "    layer_sizes = [16, 16],\n",
    "    activations=[\"relu\", \"relu\"],\n",
    "    num_bases=0,\n",
    "    dropout=0.0,\n",
    ")"
   ],
   "id": "dc0056903d26ba3f",
   "outputs": [],
   "execution_count": null
  },
  {
   "metadata": {},
   "cell_type": "code",
   "source": [
    "x_in, x_out = rgcn.in_out_tensors()\n",
    "predictions = Dense(train_targets.shape[-1], activation=\"softmax\")(x_out)\n",
    "model = Model(inputs=x_in, outputs=predictions)\n",
    "model.compile(\n",
    "    loss=\"categorical_crossentropy\",\n",
    "    optimizer=keras.optimizers.Adam(0.01),\n",
    "    metrics=[\"acc\"],\n",
    ")\n",
    "\n",
    "history = model.fit(train_gen, validation_data=test_gen, epochs=50)"
   ],
   "id": "d906c698fbf5cd60",
   "outputs": [],
   "execution_count": null
  },
  {
   "metadata": {},
   "cell_type": "code",
   "source": "plot_history(history)",
   "id": "670cd6a4496c2b30",
   "outputs": [],
   "execution_count": null
  },
  {
   "metadata": {},
   "cell_type": "code",
   "source": [
    "test_metrics = model.evaluate(test_gen)\n",
    "print(\"\\nTest Set Metrics:\")\n",
    "for name, val in zip(model.metrics_names, test_metrics):\n",
    "    print(\"\\t{}: {:0.4f}\".format(name, val))\n"
   ],
   "id": "dd98fed3faf13fa1",
   "outputs": [],
   "execution_count": null
  },
  {
   "metadata": {},
   "cell_type": "code",
   "source": [
    "from sklearn.decomposition import PCA\n",
    "from sklearn.manifold import TSNE\n",
    "\n",
    "# get embeddings for all people nodes\n",
    "all_gen = generator.flow(affiliation.index, targets=affiliation)\n",
    "embedding_model = Model(inputs=x_in, outputs=x_out)\n",
    "emb = embedding_model.predict(all_gen)\n",
    "\n",
    "X = emb.squeeze(0)\n",
    "y = affiliation.idxmax(axis=\"columns\").astype(\"category\")\n",
    "\n",
    "#to visualize high-dimensional data\n",
    "if X.shape[1] > 2:\n",
    "    transform = TSNE\n",
    "\n",
    "    trans = transform(n_components=2)\n",
    "    emb_transformed = pd.DataFrame(trans.fit_transform(X), index=affiliation.index)\n",
    "    emb_transformed[\"label\"] = y\n",
    "else:\n",
    "    emb_transformed = pd.DataFrame(X, index=affiliation.index)\n",
    "    emb_transformed = emb_transformed.rename(columns={\"0\": 0, \"1\": 1})\n",
    "    emb_transformed[\"label\"] = y\n",
    "\n",
    "#visualization of the distribution of embeddings\n",
    "fig, ax = plt.subplots(figsize=(7, 7))\n",
    "ax.scatter(\n",
    "    emb_transformed[0],\n",
    "    emb_transformed[1],\n",
    "    c=emb_transformed[\"label\"].cat.codes,\n",
    "    cmap=\"jet\",\n",
    "    alpha=0.7,\n",
    ")\n",
    "ax.set(aspect=\"equal\", xlabel=\"$X_1$\", ylabel=\"$X_2$\")\n",
    "plt.title(\n",
    "    \"{} visualization of RGCN embeddings for AIFB dataset\".format(transform.__name__)\n",
    ")\n",
    "plt.show()\n"
   ],
   "id": "90132fb2bccae54",
   "outputs": [],
   "execution_count": null
  }
 ],
 "metadata": {
  "kernelspec": {
   "name": "python3",
   "language": "python",
   "display_name": "Python 3"
  }
 },
 "nbformat": 5,
 "nbformat_minor": 9
}
